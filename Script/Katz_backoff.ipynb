{
 "cells": [
  {
   "cell_type": "markdown",
   "metadata": {
    "colab_type": "text",
    "id": "_Y4_1J5y_Mec"
   },
   "source": [
    "# Project 2 - Word Prediction Algorithms\n",
    "Alvaro Aguado\n",
    "\n",
    "##Project Summary\n",
    "Search engines, phones, and email all actively employ word prediction to aid users and drive active use. But how do these prediction algorithms really work in principle and in practice? In this project, I aim to answer both by exploring the theoretical nature of the problem, some of its solutions, and the implementation of those solutions.\n",
    "\n",
    "##Introduction\n",
    "Word prediction is a feature of many technologies we interact with frequently that has increasingly been taken for granted. In its predominant form, \"autocomplete\" attemps to aid text messages constantly throughout the day for a tremendous amount of users. In other mediums, like email, \"Smart Reply\" features hope to offer us a contextually relevant response to an email we've received.\n",
    "\n",
    "##Katz's Back-off Model\n",
    "\"Katz back-off is a generative *n*-gram language model that estimates the conditional probability of a word given its history in the *n*-gram. It accomplishes this estimation by *backing off* through progressively shorter history models under certain conditions.\" By doing so, the model with the most reliable information about a given history is used to provide the better results.\n",
    "\n",
    "\\begin{aligned}P_{{bo}}(w_{i}\\mid w_{{i-n+1}}\\cdots w_{{i-1}})={} &{\\begin{cases}d_{{w_{{i-n+1}}\\cdots w_{{i}}}}{\\dfrac  {C(w_{{i-n+1}}\\cdots w_{{i-1}}w_{{i}})}{C(w_{{i-n+1}}\\cdots w_{{i-1}})}} &{\\text{if }}C(w_{{i-n+1}}\\cdots w_{i})>k\\\\[10pt]\\alpha _{{w_{{i-n+1}}\\cdots w_{{i-1}}}}P_{{bo}}(w_{i}\\mid w_{{i-n+2}}\\cdots w_{{i-1}}) & {\\text{otherwise}}\\end{cases}}\\end{aligned}\n",
    "\n",
    "where \n",
    "\n",
    "  ${C(x)} = $ number of times x appears in training <br>\n",
    "  ${w_i} = $ ith word in the given context <br>\n",
    "  ${d} = $ is the amount of discounting found by [Good-Turing](https://en.wikipedia.org/wiki/Good%E2%80%93Turing) estimation <br>\n",
    "  \n",
    "\n",
    "\n",
    "alpha is the normalization of the left-over probability \n",
    "\n",
    "  $\\alpha = \\dfrac {\\beta_{w_{{i-n+1}}\\cdots w_{{i-1}}}} {\\sum_{ \\{w_i:C(w_{{i-n+1}}\\cdots {{w_i}})\\leq k\\}} P_{bo}(w_i\\mid w_{{i-n+2}}\\cdots w_{{i-1}}) } $ <br>\n",
    "  \n",
    "  beta here is the left over probability <br>\n",
    "\n",
    "  $\\beta = 1 - \\sum_{\\{w_i:C(w_{{i-n+1}}\\cdots {{w_i}})\\leq k\\}}^{} d_{{w_{{i-n+1}}\\cdots w_{{i}}}} {\\dfrac  {C(w_{{i-n+1}}\\cdots w_{{i-1}}w_{{i}})}{C(w_{{i-n+1}}\\cdots w_{{i-1}})}} $\n",
    "\n",
    "In simple terms, Katz's Back-off Model is an *n*-gram language model that estimates conditional probability of the next word given its history in the *n*-gram. And *n*-gram is a string containing *n* words. For example, consider the phrase \"I want to eat Chinese food.\" There are the following *n*-grams:\n",
    "\n",
    "Unigrams: *I; want; to; eat; Chinese; food*\n",
    "\n",
    "Bigrams: *I want; want to; to eat; eat Chinese; Chinese food*\n",
    "\n",
    "Trigrams: *I want to; want to eat; to eat Chinese; eat Chinese food*\n",
    "\n",
    "Four-grams: *I want to eat; want to eat Chinese; to eat Chinese food*\n",
    "\n",
    "*etc.*\n",
    "\n",
    "Essentially, this means that if the n-gram has been seen more than $k$ times in training, the conditional probability of a word given its history is proportional to the maximum likelihood estimate of that n-gram. Otherwise, the conditional probability is equal to the back-off conditional probability of the (n-1)-gram.\n",
    "\n",
    "As this scales with larger corpuses, we will have a vector that is primarily filled with 0s, which is wasteful of computational resources. We will employ cleaning techniques as a first step, bearing in mind problems that are unique to the nature of our data:\n",
    "\n",
    "- Ignoring case\n",
    "- Ignoring punctuation\n",
    "- Replace #*hashtag* with `hashtagWord`\n",
    "- Replace *@* with `handleWord`\n",
    "- Using Lemmatization\n",
    "\n",
    "Lemmas remove morphological variations on a word. For example,  \n",
    "- *running* -> *run*\n",
    "- *spaces* -> *space*\n",
    "- *better* -> *good*\n",
    "\n",
    "### Submission:\n",
    "----------------\n",
    "The steps followed in this analysis follow CRISP-DM Methodology (**C**ross **I**ndustry **S**tandard **P**rocess for **D**ata **M**ining). Our report consist of the following parts:\n",
    "\n",
    "- What Data Mining Methods are appropriate for this dataset \n",
    "- Data Mining approach: CRISP-DM Methodology\n",
    "    1. **Business Understanding** \n",
    "    2. **Data Understanding**\n",
    "        - Load and explore the data\n",
    "        - Evaluate correlations among variables\n",
    "    3. **Data Preparation**\n",
    "        - Limit outliers, handling missing data, change variables from categorial to numerical\n",
    "        - Select features\n",
    "        - Normalize the target\n",
    "    4. **Analysis and Modeling**\n",
    "        - Run Back-off model as base\n",
    "        - Run the Neural Network to compare\n",
    "        - Check results and iterate to improve train model\n",
    "    5. **Evaluation**\n",
    "        - Assess out-of-sample Accuracy\n",
    "        - Description of results\n",
    "        - Conclusions\n",
    "\n",
    "\n",
    "\n"
   ]
  },
  {
   "cell_type": "markdown",
   "metadata": {
    "colab_type": "text",
    "id": "F_MHSZRHgFIR"
   },
   "source": [
    "### 1. Business Understanding/ Objective\n",
    "For this project our business problem is to create a word predictor or recommender. Our tool should be able to take any string in the English language and be able to make a prediction whether we have zero or more words. The users of the tool should be able to test sentences and automatically get a response from our tool. Given that this problem is very complex, our tool is going to provide 3 candidates words as predictions, and the probability that based on our training set we think these predicted words could be picked. \n",
    "\n",
    "The business application could be for a phone company that needs to make a keyboard that recommends the next word as people are typing, or for typing software (Word, Email, Blog) that wants to provide the function autocomplete. \n",
    "Although it is not scoped for this project we think the tool should expand it's vocabulary and tailor responses to individuals. This is, that our training dictionary will get updated as the user interacts with the tool, giving higher weight to the words that this user normally uses. We will explain what will be our strategy as next steps in the Deployment Phase. \n",
    "\n",
    "**Business Objective:** Create a Word prediction tool that can be reused by the client's application. \n"
   ]
  },
  {
   "cell_type": "markdown",
   "metadata": {
    "colab_type": "text",
    "id": "BaOcNnarjnv0"
   },
   "source": [
    "### 2. Data Understanding\n",
    "\n",
    "We have a dataset that contains multiple entries from different social platforms. Specifically we will be collecting data from FORUMS, BLOGS, NEWS sites and TWITTER. All entries are categorized as English Language by the data provider but there might be instances in which entries are written or contain substrings in other languages. \n",
    "\n",
    "Let's start by loading the appropiate libraries and taking a look at the data."
   ]
  },
  {
   "cell_type": "code",
   "execution_count": 0,
   "metadata": {
    "colab": {
     "base_uri": "https://localhost:8080/",
     "height": 35
    },
    "colab_type": "code",
    "executionInfo": {
     "elapsed": 20616,
     "status": "ok",
     "timestamp": 1573878961225,
     "user": {
      "displayName": "Alvaro Jesus Aguado Marin",
      "photoUrl": "",
      "userId": "05452788874054527986"
     },
     "user_tz": 300
    },
    "id": "pW4s-FPIm3D_",
    "outputId": "d514e149-6294-4832-eae6-ae7a2225bcad"
   },
   "outputs": [
    {
     "data": {
      "text/plain": [
       "(20000, 7)"
      ]
     },
     "execution_count": 4,
     "metadata": {
      "tags": []
     },
     "output_type": "execute_result"
    }
   ],
   "source": [
    "## Import libraries\n",
    "\n",
    "import pandas as pd                 # Treat data as Data Frames and Series\n",
    "from sklearn.model_selection import train_test_split # Split our data set into train and test\n",
    "import numpy as np                  # Numeric Calculations\n",
    "import random                       # To ensure we can reproduce the example\n",
    "import re                           # Regular Expressions\n",
    "import nltk                         # Natural Language Toolkit for tokenizing words\n",
    "import matplotlib.pyplot as plt\n",
    "from nltk.stem import WordNetLemmatizer\n",
    "import pickle\n",
    "import heapq\n",
    "nltk.download('punkt',quiet = True)              # This tokenizer divides text into a list of sentences. Mustt be trained on large set of plaintext in intended language.\n",
    "nltk.download('stopwords', quiet = True)          # Words like [the, a, an in] that are contextually incosequential and would take up space in our database and therefore processing time.\n",
    "#nltk.download('PorterStemmer')     # Stemmers remove morphological fixations from words, leaving only the stem. Ex: running -> run; spaces -> space (We used Lemmas instead)\n",
    "nltk.download('wordnet', quiet = True)            # Lemmas are the same as the Stemmers but the outputted word is readable in the english language\n",
    "\n",
    "dat = \"https://github.com/alvaroaguado3/PredictiveWord/blob/master/SocialData.xlsx?raw=true\"\n",
    "dat_raw = pd.read_excel(dat)\n",
    "\n",
    "dat_raw.shape"
   ]
  },
  {
   "cell_type": "code",
   "execution_count": 0,
   "metadata": {
    "colab": {},
    "colab_type": "code",
    "id": "-ueUo5WkbVqU"
   },
   "outputs": [],
   "source": [
    "import warnings; warnings.simplefilter('ignore')"
   ]
  },
  {
   "cell_type": "markdown",
   "metadata": {
    "colab_type": "text",
    "id": "p077G-Lhkb2N"
   },
   "source": [
    "Our data contains 20,000 rows and 7 variables. If we look at the internal structure of the dataset we can see the following attributes:\n",
    " * UniqueID: Which is a unique identifier per row. Each row corresponds to a tweet, blog, news or forum entry. \n",
    " * GroupID: Unique Identifier within each Source. This value is unique within each source (tweets, Blogs, News or Forum entry)\n",
    " * Source: Source of the corpus entry. Either TWITTER, BLOG, FORUMS or NEWS. There are 5,000 entries per source. \n",
    " * Date: Date in which the entry was posted. Data was collected between July 22th, 2019 and October 19th, 2019\n",
    " * Author: Alias of the author of the tweet, Blog, News or Forum entry. \n",
    " * Country: Country in which the user is registered to be posting the entry. It might not correspond to the country from which the data was posted. \n",
    " * Contents: Raw corpus of the post entry. Each entry could have different lengths in terms of the number of characters. Post may contain special characters that can only be read in UTF-8 encoding.\n",
    " "
   ]
  },
  {
   "cell_type": "code",
   "execution_count": 0,
   "metadata": {
    "colab": {
     "base_uri": "https://localhost:8080/",
     "height": 35
    },
    "colab_type": "code",
    "executionInfo": {
     "elapsed": 20421,
     "status": "ok",
     "timestamp": 1573878961227,
     "user": {
      "displayName": "Alvaro Jesus Aguado Marin",
      "photoUrl": "",
      "userId": "05452788874054527986"
     },
     "user_tz": 300
    },
    "id": "By3f8A07lMJw",
    "outputId": "53d6d9db-c22a-41af-cd8e-30f68bc0f594"
   },
   "outputs": [
    {
     "name": "stdout",
     "output_type": "stream",
     "text": [
      "Data entries were posted between:  2019-10-19 00:00:00 and 2019-07-22 00:00:00\n"
     ]
    }
   ],
   "source": [
    "print('Data entries were posted between: ',np.max(dat_raw.Date),'and',np.min(dat_raw.Date))"
   ]
  },
  {
   "cell_type": "code",
   "execution_count": 0,
   "metadata": {
    "colab": {
     "base_uri": "https://localhost:8080/",
     "height": 202
    },
    "colab_type": "code",
    "executionInfo": {
     "elapsed": 20296,
     "status": "ok",
     "timestamp": 1573878961228,
     "user": {
      "displayName": "Alvaro Jesus Aguado Marin",
      "photoUrl": "",
      "userId": "05452788874054527986"
     },
     "user_tz": 300
    },
    "id": "eq7SBp01m3EN",
    "outputId": "2f863aed-87cf-4666-fcb4-27fb82fecf9f"
   },
   "outputs": [
    {
     "data": {
      "text/html": [
       "<div>\n",
       "<style scoped>\n",
       "    .dataframe tbody tr th:only-of-type {\n",
       "        vertical-align: middle;\n",
       "    }\n",
       "\n",
       "    .dataframe tbody tr th {\n",
       "        vertical-align: top;\n",
       "    }\n",
       "\n",
       "    .dataframe thead th {\n",
       "        text-align: right;\n",
       "    }\n",
       "</style>\n",
       "<table border=\"1\" class=\"dataframe\">\n",
       "  <thead>\n",
       "    <tr style=\"text-align: right;\">\n",
       "      <th></th>\n",
       "      <th>UniqueID</th>\n",
       "      <th>GroupID</th>\n",
       "      <th>Source</th>\n",
       "      <th>Date</th>\n",
       "      <th>Author</th>\n",
       "      <th>Country</th>\n",
       "      <th>Contents</th>\n",
       "    </tr>\n",
       "  </thead>\n",
       "  <tbody>\n",
       "    <tr>\n",
       "      <th>0</th>\n",
       "      <td>1</td>\n",
       "      <td>1</td>\n",
       "      <td>TWITTER</td>\n",
       "      <td>2019-09-11</td>\n",
       "      <td>drjohnkanca3</td>\n",
       "      <td>US</td>\n",
       "      <td>@washingtonpost The heroes were in those plane...</td>\n",
       "    </tr>\n",
       "    <tr>\n",
       "      <th>1</th>\n",
       "      <td>2</td>\n",
       "      <td>2</td>\n",
       "      <td>TWITTER</td>\n",
       "      <td>2019-09-23</td>\n",
       "      <td>Eleven88degrees</td>\n",
       "      <td>US</td>\n",
       "      <td>shut the fuck up my guy.</td>\n",
       "    </tr>\n",
       "    <tr>\n",
       "      <th>2</th>\n",
       "      <td>3</td>\n",
       "      <td>3</td>\n",
       "      <td>TWITTER</td>\n",
       "      <td>2019-09-06</td>\n",
       "      <td>ForeverSlime1</td>\n",
       "      <td>GB</td>\n",
       "      <td>Add me to fifa gcs 😁</td>\n",
       "    </tr>\n",
       "    <tr>\n",
       "      <th>3</th>\n",
       "      <td>4</td>\n",
       "      <td>4</td>\n",
       "      <td>TWITTER</td>\n",
       "      <td>2019-09-26</td>\n",
       "      <td>KennethT_Realty</td>\n",
       "      <td>US</td>\n",
       "      <td>Even #Millennials are buying homes 😉! Looking ...</td>\n",
       "    </tr>\n",
       "    <tr>\n",
       "      <th>4</th>\n",
       "      <td>5</td>\n",
       "      <td>5</td>\n",
       "      <td>TWITTER</td>\n",
       "      <td>2019-09-27</td>\n",
       "      <td>ParentRdMin</td>\n",
       "      <td>US</td>\n",
       "      <td>Well, that was unusual! We don't answer phone ...</td>\n",
       "    </tr>\n",
       "  </tbody>\n",
       "</table>\n",
       "</div>"
      ],
      "text/plain": [
       "   UniqueID  GroupID  ... Country                                           Contents\n",
       "0         1        1  ...      US  @washingtonpost The heroes were in those plane...\n",
       "1         2        2  ...      US                           shut the fuck up my guy.\n",
       "2         3        3  ...      GB                               Add me to fifa gcs 😁\n",
       "3         4        4  ...      US  Even #Millennials are buying homes 😉! Looking ...\n",
       "4         5        5  ...      US  Well, that was unusual! We don't answer phone ...\n",
       "\n",
       "[5 rows x 7 columns]"
      ]
     },
     "execution_count": 7,
     "metadata": {
      "tags": []
     },
     "output_type": "execute_result"
    }
   ],
   "source": [
    "dat_raw.head() # Example of some entries of the data set "
   ]
  },
  {
   "cell_type": "code",
   "execution_count": 0,
   "metadata": {
    "colab": {
     "base_uri": "https://localhost:8080/",
     "height": 104
    },
    "colab_type": "code",
    "executionInfo": {
     "elapsed": 20243,
     "status": "ok",
     "timestamp": 1573878961229,
     "user": {
      "displayName": "Alvaro Jesus Aguado Marin",
      "photoUrl": "",
      "userId": "05452788874054527986"
     },
     "user_tz": 300
    },
    "id": "GjvmbcH0m3ER",
    "outputId": "f129a0e0-dbb1-4c97-de04-1dfa92924961"
   },
   "outputs": [
    {
     "data": {
      "text/plain": [
       "NEWS       5000\n",
       "TWITTER    5000\n",
       "FORUMS     5000\n",
       "BLOGS      5000\n",
       "Name: Source, dtype: int64"
      ]
     },
     "execution_count": 8,
     "metadata": {
      "tags": []
     },
     "output_type": "execute_result"
    }
   ],
   "source": [
    "## Let's check that each entry has the same amount of entries\n",
    "dat_raw[\"Source\"].value_counts()"
   ]
  },
  {
   "cell_type": "markdown",
   "metadata": {
    "colab_type": "text",
    "id": "2g-vrpSHoBLR"
   },
   "source": [
    "From the source counts we will not be giving more weight to one source more than the others. However, because Forum  and Blogs entries tend to have bigger corpus sizes in terms of words than News and Twitter,we will in turn create a bigger dictionary from those sources."
   ]
  },
  {
   "cell_type": "code",
   "execution_count": 0,
   "metadata": {
    "colab": {
     "base_uri": "https://localhost:8080/",
     "height": 104
    },
    "colab_type": "code",
    "executionInfo": {
     "elapsed": 20198,
     "status": "ok",
     "timestamp": 1573878961230,
     "user": {
      "displayName": "Alvaro Jesus Aguado Marin",
      "photoUrl": "",
      "userId": "05452788874054527986"
     },
     "user_tz": 300
    },
    "id": "C8qbSOv9m3EX",
    "outputId": "21d53560-6bc1-47c9-80cd-9796a49acbb0"
   },
   "outputs": [
    {
     "data": {
      "text/plain": [
       "US    13335\n",
       "GB     3256\n",
       "AU     2239\n",
       "CA     1170\n",
       "Name: Country, dtype: int64"
      ]
     },
     "execution_count": 9,
     "metadata": {
      "tags": []
     },
     "output_type": "execute_result"
    }
   ],
   "source": [
    "dat_raw[\"Country\"].value_counts()"
   ]
  },
  {
   "cell_type": "markdown",
   "metadata": {
    "colab_type": "text",
    "id": "wiWtzXqAonEt"
   },
   "source": [
    "All entries will come in English language. Most entries come from the US which could mean that the dictionary could be bias towards American English. Our hope is that the representation of other countries can account for the individual nuances of each English dialect."
   ]
  },
  {
   "cell_type": "code",
   "execution_count": 0,
   "metadata": {
    "colab": {
     "base_uri": "https://localhost:8080/",
     "height": 121
    },
    "colab_type": "code",
    "executionInfo": {
     "elapsed": 20155,
     "status": "ok",
     "timestamp": 1573878961231,
     "user": {
      "displayName": "Alvaro Jesus Aguado Marin",
      "photoUrl": "",
      "userId": "05452788874054527986"
     },
     "user_tz": 300
    },
    "id": "pfQoIvZtpEU7",
    "outputId": "928fc890-c9d4-45d8-d65b-e1e219a27984"
   },
   "outputs": [
    {
     "data": {
      "text/plain": [
       "Source\n",
       "BLOGS      170.9226\n",
       "FORUMS      43.5626\n",
       "NEWS        26.4518\n",
       "TWITTER     22.2172\n",
       "Name: WordCounts, dtype: float64"
      ]
     },
     "execution_count": 10,
     "metadata": {
      "tags": []
     },
     "output_type": "execute_result"
    }
   ],
   "source": [
    "# Check the average number of words per data source\n",
    "pd.DataFrame({'Source': dat_raw.Source, 'WordCounts' : [len([x for x in str(sentence).split(\" \")]) for sentence in dat_raw.Contents], 'Contents' : dat_raw.Contents}).groupby('Source').WordCounts.mean()\n"
   ]
  },
  {
   "cell_type": "markdown",
   "metadata": {
    "colab_type": "text",
    "id": "7A8XGQ4Ws-3I"
   },
   "source": [
    "It's not surprising to see taht Blogs have the longest entries with 171 words on average across the 5000 entries. On the other side Twitter has the lowest with an average length of 22 words per entry."
   ]
  },
  {
   "cell_type": "markdown",
   "metadata": {
    "colab_type": "text",
    "id": "hoTxvFyFtZqQ"
   },
   "source": [
    "### 3. Data Preparation\n",
    "\n",
    "We proceed now to data preparation. This is the most important phase because depending how we process the data we will get different results. There are several challenges with the data that we need to solve. \n",
    "\n",
    "**Cleaning the data:**\n",
    "\n",
    "* #Hashtags: Social Media data contains several Hashtags. These are anchers for search purposes. Contextually they don't provide a lot of information about the next word, but it's more of a label for the entry. As a result we will replace all the hashtags with a generic word called HashtagWord, this way we know that the word is a special word called hashtag. \n",
    "\n",
    "* @Handles: Similarly Handles are a way for user to tag a person to the post or entry. Because this doesn't provide a lot of information about the next word we are going to substitute handles with the special generic word called HandleWord\n",
    "\n",
    "* Url's: Url's are long strings that provide a link to another url. This again does not provide value to the prediction. We will substitute url's with the generic word UrlWord. \n",
    "\n",
    "* Emoji's: Emoji's are ideograms used in electronic messages and webpages. Emoji's are commonly used to represent feelings of the author. The text representation of the unicode encoding is created with a U+ followed by a 4-digit alphanumeric code. Because each emoji could provide some context in sources like twitter we decided to leave emojis as part of the analysis.  \n",
    "\n",
    "* Punctuation: English language uses punctuation characters such as ? ! . , etc. These could provide some context about the next word but it would increase the complexity of our model for the current scope. For this reason we will remove these characters \n",
    "\n",
    "* Special Characters: Even though the text is in english langugage there might be instances when users have special characters from other langugages (i.e. Chinese or japanese characters) or simply characters that are part of Unicode 13 list. We will remove these characters from our analysis.\n",
    "\n",
    "\n",
    "**N-grams**\n",
    "\n",
    "N-grams are ways in which we split the courpus of a text. In our analysis our N-grams will be defined by words which are the characters separated by a space. The lowest level N-gram used for our analysis will be unigrams which correspond to individual words. Higher level N-grams like bigrams and trigrams are the combination of consecutive unigrams. We consider that the higher n-gram used the more information is contained about the next word that we are going to predict. For the Kat'z Back off model we will use Unigrams, Bigrams, Trigrams and Fourgrams.\n",
    "\n",
    "<img src=\"https://i.stack.imgur.com/8ARA1.png\" alt=\"enter image description here\">\n",
    "\n",
    "**Stemming and Lemmatization**\n",
    "\n",
    "English language uses words that could have different terminations or suffixes. These suffixes normally are used normally in two forms, for verb conjugations and for noun plurals vs. single indication. Stemming tries to modify words by using the base of the word or Stem this reduces the number of permutations of the same words in our dictionary. Because these don't change the meaning of the words and we want to limit the model complexity and because Stem's alone are hard sometimes to read we are going to use lemma's. Lemmatization takes into consideration the morphological analysis of the words. In order to use lematization we will use pre-trained models to remove the suffixes and normalize to a readable word.\n",
    "\n",
    "<ul>\n",
    "<p> **Example of Stemming process:** </p>\n",
    "<img src=\"https://blog.bitext.com/hs-fs/hubfs/stemming_v2.png?width=248&amp;height=130&amp;name=stemming_v2.png\" align='center'/>\n",
    "</ul>\n",
    "\n",
    "<ul>\n",
    "<p>**Example of Lemmatization process:**</p>\n",
    "<img width=\"624\" height=\"450\" src=\"https://searchingforbole.files.wordpress.com/2018/01/re-learning-english-multiple1.png?w=624\"/>\n",
    "</ul>\n",
    "\n"
   ]
  },
  {
   "cell_type": "code",
   "execution_count": 0,
   "metadata": {
    "colab": {},
    "colab_type": "code",
    "id": "sJGuRkS6jI79"
   },
   "outputs": [],
   "source": [
    "lens = pd.DataFrame({\"lens\":[len([x for x in str(sentence).split(\" \")]) for sentence in dat_raw.Contents]})\n",
    "dat_raw = dat_raw[lens['lens'] > 2]"
   ]
  },
  {
   "cell_type": "code",
   "execution_count": 0,
   "metadata": {
    "colab": {},
    "colab_type": "code",
    "id": "91XKjTq4zoX3"
   },
   "outputs": [],
   "source": [
    "# We will start creating a train and a test set\n",
    "train, test = train_test_split(dat_raw, test_size=0.01,random_state = 12345)\n",
    "train.sort_values(by=['Source'], inplace=True,ascending = False)"
   ]
  },
  {
   "cell_type": "code",
   "execution_count": 0,
   "metadata": {
    "colab": {
     "base_uri": "https://localhost:8080/",
     "height": 202
    },
    "colab_type": "code",
    "executionInfo": {
     "elapsed": 20090,
     "status": "ok",
     "timestamp": 1573878961682,
     "user": {
      "displayName": "Alvaro Jesus Aguado Marin",
      "photoUrl": "",
      "userId": "05452788874054527986"
     },
     "user_tz": 300
    },
    "id": "eaEMi6Kt2i1i",
    "outputId": "c923c3fc-cb8f-46d7-8fc5-902fceabedeb"
   },
   "outputs": [
    {
     "data": {
      "text/html": [
       "<div>\n",
       "<style scoped>\n",
       "    .dataframe tbody tr th:only-of-type {\n",
       "        vertical-align: middle;\n",
       "    }\n",
       "\n",
       "    .dataframe tbody tr th {\n",
       "        vertical-align: top;\n",
       "    }\n",
       "\n",
       "    .dataframe thead th {\n",
       "        text-align: right;\n",
       "    }\n",
       "</style>\n",
       "<table border=\"1\" class=\"dataframe\">\n",
       "  <thead>\n",
       "    <tr style=\"text-align: right;\">\n",
       "      <th></th>\n",
       "      <th>UniqueID</th>\n",
       "      <th>GroupID</th>\n",
       "      <th>Source</th>\n",
       "      <th>Date</th>\n",
       "      <th>Author</th>\n",
       "      <th>Country</th>\n",
       "      <th>Contents</th>\n",
       "    </tr>\n",
       "  </thead>\n",
       "  <tbody>\n",
       "    <tr>\n",
       "      <th>611</th>\n",
       "      <td>612</td>\n",
       "      <td>612</td>\n",
       "      <td>TWITTER</td>\n",
       "      <td>2019-09-23</td>\n",
       "      <td>colleen_ashley1</td>\n",
       "      <td>GB</td>\n",
       "      <td>The term for when the grapes start to go from ...</td>\n",
       "    </tr>\n",
       "    <tr>\n",
       "      <th>7540</th>\n",
       "      <td>7541</td>\n",
       "      <td>2541</td>\n",
       "      <td>FORUMS</td>\n",
       "      <td>2019-08-30</td>\n",
       "      <td>Rain_06-04-17</td>\n",
       "      <td>US</td>\n",
       "      <td>Thank you. It’s definitely worth it not to dri...</td>\n",
       "    </tr>\n",
       "    <tr>\n",
       "      <th>492</th>\n",
       "      <td>493</td>\n",
       "      <td>493</td>\n",
       "      <td>TWITTER</td>\n",
       "      <td>2019-09-29</td>\n",
       "      <td>HobbitLtd</td>\n",
       "      <td>GB</td>\n",
       "      <td>Why not come and have tea with us in our Hobbi...</td>\n",
       "    </tr>\n",
       "    <tr>\n",
       "      <th>8052</th>\n",
       "      <td>8053</td>\n",
       "      <td>3053</td>\n",
       "      <td>FORUMS</td>\n",
       "      <td>2019-08-01</td>\n",
       "      <td>Railcarmover</td>\n",
       "      <td>US</td>\n",
       "      <td>Quote: : Wow, so there is one here! Does anybo...</td>\n",
       "    </tr>\n",
       "    <tr>\n",
       "      <th>4303</th>\n",
       "      <td>4304</td>\n",
       "      <td>4304</td>\n",
       "      <td>TWITTER</td>\n",
       "      <td>2019-10-08</td>\n",
       "      <td>miguueelitoo</td>\n",
       "      <td>US</td>\n",
       "      <td>finally accepted shit. sleepless nights, weigh...</td>\n",
       "    </tr>\n",
       "  </tbody>\n",
       "</table>\n",
       "</div>"
      ],
      "text/plain": [
       "      UniqueID  ...                                           Contents\n",
       "611        612  ...  The term for when the grapes start to go from ...\n",
       "7540      7541  ...  Thank you. It’s definitely worth it not to dri...\n",
       "492        493  ...  Why not come and have tea with us in our Hobbi...\n",
       "8052      8053  ...  Quote: : Wow, so there is one here! Does anybo...\n",
       "4303      4304  ...  finally accepted shit. sleepless nights, weigh...\n",
       "\n",
       "[5 rows x 7 columns]"
      ]
     },
     "execution_count": 13,
     "metadata": {
      "tags": []
     },
     "output_type": "execute_result"
    }
   ],
   "source": [
    "train.sample(n = 5, random_state=12345).head() #"
   ]
  },
  {
   "cell_type": "markdown",
   "metadata": {
    "colab_type": "text",
    "id": "EZfR2iWt7f6k"
   },
   "source": [
    "Below we implement our first set of functions. \n",
    "* Clean_article will take an entry (one corpus) and will perform all the cleaning actions we talked about previously (Handles, emoji's, Hashtags, special characters, etc.). The function will return a clean string (or corpus)\n",
    "\n",
    "* Get_ngrams will perform the ngrams for a vector of corpus. The function will return a data frame with 4 additional columns: Unigrams, Bigrams, Trigrams and Fourgrams.\n",
    "\n",
    "* Clean and Uni just performs the combination of the past two functions."
   ]
  },
  {
   "cell_type": "code",
   "execution_count": 0,
   "metadata": {
    "colab": {},
    "colab_type": "code",
    "id": "exfPwkGrm3Ea"
   },
   "outputs": [],
   "source": [
    "# First we have to pre-process the data and tokenize the inputs \n",
    "lemma = WordNetLemmatizer() # Pre-trained algorithm to convert words into lemma's and as a result remove permutations.\n",
    "porter = nltk.stem.PorterStemmer() #Not used: porter Stemmer coverts words into stem's to remove permutations\n",
    "\n",
    "# Function takes a string and returns a clean string without special words and characters\n",
    "def clean_article(article):\n",
    "  # String to replace URL. This method is not the most exhaustive as the one we have just below but it works computationally more effectively\n",
    "    p = r\"http\\S+\" \n",
    "#    p = r'''(?i)\\b((?:https?://|www\\d{0,3}[.]|[a-z0-9.\\-]+[.][a-z]{2,4}/)(?:[^\\s()<>]+|\\(([^\\s()<>]+|(\\([^\\s()<>]+\\)))*\\))+(?:\\(([^\\s()<>]+|(\\([^\\s()<>]+\\)))*\\)|[^\\s`!()\\[\\]{};:'\".,<>?«»“”‘’]))'''\n",
    "    art0 = re.sub(p,' URLWord',article) # Replace url\n",
    "    art1 = re.sub('@[A-Za-z0-9]+',' HandleWord',art0) # Replace Handle\n",
    "    art2 = re.sub('#[A-Za-z0-9]+',' HashtagWord',art1) # Replace Hashtag\n",
    "    art3 = re.sub(\"n't\",\"nt\",art2)\n",
    "    art4 = re.sub(r'(?<=\\w)[^\\s\\w](?![^\\s\\w])', ' ', art3) \n",
    "    art5 = re.sub(\"[^A-Za-z]\", ' ', art4) # Remove special characters\n",
    "    art6 = re.sub(\"\\s[B-HJ-Zb-hj-z]\\s\", ' ', art5)\n",
    "    art7 = re.sub(\"^[B-HJ-Zb-hj-z]\\s\", ' ', art6)\n",
    "    art8 = re.sub(\"\\s[B-HJ-Zb-hj-z]$\", ' ', art7)\n",
    "    art9 = re.sub('  +', ' ',art8).lstrip().rstrip()    # Strip off double spaces and left and right trimming\n",
    "    return art9.lower()\n",
    "\n",
    "# We are going to use Lemmatization instead of Stemming to improve readbility\n",
    "#def get_ngrams(data_frame):\n",
    "#  data_frame[\"unigrams\"] = [[porter.stem(x) for x in sentence.split(\" \")] for sentence in data_frame.clean]\n",
    "#  data_frame[\"bigrams\"] = [list(nltk.ngrams([porter.stem(x) for x in sentence.split(\" \")],2)) for sentence in data_frame.clean]\n",
    "#  data_frame[\"trigrams\"] = [list(nltk.ngrams([porter.stem(x) for x in sentence.split(\" \")],3)) for sentence in data_frame.clean]\n",
    "#  data_frame[\"fourgrams\"] = [list(nltk.ngrams([porter.stem(x) for x in sentence.split(\" \")],4)) for sentence in data_frame.clean]\n",
    "#  return data_frame\n",
    "\n",
    "# Create a data.frame with n-grams and clean string content\n",
    "def get_ngrams(data_frame):\n",
    "  data_frame[\"unigrams\"] = [[lemma.lemmatize(x) for x in sentence.split(\" \")] for sentence in data_frame.clean]\n",
    "  data_frame[\"bigrams\"] = [list(nltk.ngrams([lemma.lemmatize(x) for x in sentence.split(\" \")],2)) for sentence in data_frame.clean]\n",
    "  data_frame[\"trigrams\"] = [list(nltk.ngrams([lemma.lemmatize(x) for x in sentence.split(\" \")],3)) for sentence in data_frame.clean]\n",
    "  data_frame[\"fourgrams\"] = [list(nltk.ngrams([lemma.lemmatize(x) for x in sentence.split(\" \")],4)) for sentence in data_frame.clean]\n",
    "  return(data_frame)\n",
    "\n",
    "# Create dataframe with only unigrams and clean string content\n",
    "def clean_and_uni(data_frame):\n",
    "    data_frame[\"clean\"] = data_frame.apply(lambda row: clean_article(str(row[\"Contents\"])), axis=1)\n",
    "    data_frame[\"unigrams\"] = [[lemma.lemmatize(x) for x in sentence.split(\" \")] for sentence in data_frame.clean]\n",
    "    return(data_frame)\n",
    "\n",
    "# Count instances of the ngram, returns a dictionary with word + count\n",
    "def freq(ngrams):\n",
    "    lst = []\n",
    "    for s in ngrams:\n",
    "        for w in s:\n",
    "            lst.append(w)            \n",
    "    return(nltk.FreqDist(lst))\n"
   ]
  },
  {
   "cell_type": "code",
   "execution_count": 0,
   "metadata": {
    "colab": {},
    "colab_type": "code",
    "id": "NzC1aTQLm3Ef"
   },
   "outputs": [],
   "source": [
    "# Apply cleaning function to train and test \n",
    "## Warning: This takes sometime to run 1-2 mins since it has to clean all data inputs\n",
    "train[\"clean\"] = train.apply(lambda row: clean_article(str(row[\"Contents\"])), axis=1)\n",
    "test[\"clean\"] = test.apply(lambda row: clean_article(str(row[\"Contents\"])), axis=1)\n",
    "\n",
    "# Make n-grams\n",
    "df_train = get_ngrams(train)\n",
    "df_test = get_ngrams(test)"
   ]
  },
  {
   "cell_type": "code",
   "execution_count": 0,
   "metadata": {
    "colab": {},
    "colab_type": "code",
    "id": "5nT_zsT6nRbY"
   },
   "outputs": [],
   "source": [
    "lens = pd.DataFrame({\"lens\":[len([x for x in str(sentence).split(\" \")]) for sentence in train.clean]})\n",
    "train = train.iloc[np.where(lens['lens'] > 2)]"
   ]
  },
  {
   "cell_type": "code",
   "execution_count": 0,
   "metadata": {
    "colab": {
     "base_uri": "https://localhost:8080/",
     "height": 606
    },
    "colab_type": "code",
    "executionInfo": {
     "elapsed": 46438,
     "status": "ok",
     "timestamp": 1573878988120,
     "user": {
      "displayName": "Alvaro Jesus Aguado Marin",
      "photoUrl": "",
      "userId": "05452788874054527986"
     },
     "user_tz": 300
    },
    "id": "Dv1V7TnJnLNN",
    "outputId": "1f3df05b-7159-4d9f-cf2c-59c4212aca19"
   },
   "outputs": [
    {
     "data": {
      "text/html": [
       "<div>\n",
       "<style scoped>\n",
       "    .dataframe tbody tr th:only-of-type {\n",
       "        vertical-align: middle;\n",
       "    }\n",
       "\n",
       "    .dataframe tbody tr th {\n",
       "        vertical-align: top;\n",
       "    }\n",
       "\n",
       "    .dataframe thead th {\n",
       "        text-align: right;\n",
       "    }\n",
       "</style>\n",
       "<table border=\"1\" class=\"dataframe\">\n",
       "  <thead>\n",
       "    <tr style=\"text-align: right;\">\n",
       "      <th></th>\n",
       "      <th>unigrams</th>\n",
       "      <th>bigrams</th>\n",
       "      <th>trigrams</th>\n",
       "      <th>fourgrams</th>\n",
       "      <th>Contents</th>\n",
       "    </tr>\n",
       "  </thead>\n",
       "  <tbody>\n",
       "    <tr>\n",
       "      <th>1729</th>\n",
       "      <td>[the, stationmaster, daughter, by, kathleen, m...</td>\n",
       "      <td>[(the, stationmaster), (stationmaster, daughte...</td>\n",
       "      <td>[(the, stationmaster, daughter), (stationmaste...</td>\n",
       "      <td>[(the, stationmaster, daughter, by), (stationm...</td>\n",
       "      <td>The Stationmaster's Daughter by Kathleen McGur...</td>\n",
       "    </tr>\n",
       "    <tr>\n",
       "      <th>437</th>\n",
       "      <td>[go, follow, handleword, get, access, to, her,...</td>\n",
       "      <td>[(go, follow), (follow, handleword), (handlewo...</td>\n",
       "      <td>[(go, follow, handleword), (follow, handleword...</td>\n",
       "      <td>[(go, follow, handleword, get), (follow, handl...</td>\n",
       "      <td>Go follow @chanelb82413021 Get access to her O...</td>\n",
       "    </tr>\n",
       "    <tr>\n",
       "      <th>3607</th>\n",
       "      <td>[handleword, handleword, handleword, handlewor...</td>\n",
       "      <td>[(handleword, handleword), (handleword, handle...</td>\n",
       "      <td>[(handleword, handleword, handleword), (handle...</td>\n",
       "      <td>[(handleword, handleword, handleword, handlewo...</td>\n",
       "      <td>@radiophonicpop @TalentedEukarya @questauthori...</td>\n",
       "    </tr>\n",
       "    <tr>\n",
       "      <th>4540</th>\n",
       "      <td>[best, part, about, baby, sitting, older, kid,...</td>\n",
       "      <td>[(best, part), (part, about), (about, baby), (...</td>\n",
       "      <td>[(best, part, about), (part, about, baby), (ab...</td>\n",
       "      <td>[(best, part, about, baby), (part, about, baby...</td>\n",
       "      <td>Best part about baby sitting older kids is I c...</td>\n",
       "    </tr>\n",
       "    <tr>\n",
       "      <th>3829</th>\n",
       "      <td>[handleword, and, in, the, sunshine, think, mr...</td>\n",
       "      <td>[(handleword, and), (and, in), (in, the), (the...</td>\n",
       "      <td>[(handleword, and, in), (and, in, the), (in, t...</td>\n",
       "      <td>[(handleword, and, in, the), (and, in, the, su...</td>\n",
       "      <td>@rescuedogdexter And in the sunshine 😍 think M...</td>\n",
       "    </tr>\n",
       "    <tr>\n",
       "      <th>...</th>\n",
       "      <td>...</td>\n",
       "      <td>...</td>\n",
       "      <td>...</td>\n",
       "      <td>...</td>\n",
       "      <td>...</td>\n",
       "    </tr>\n",
       "    <tr>\n",
       "      <th>23</th>\n",
       "      <td>[handleword, a, a, big, city, person, i, alway...</td>\n",
       "      <td>[(handleword, a), (a, a), (a, big), (big, city...</td>\n",
       "      <td>[(handleword, a, a), (a, a, big), (a, big, cit...</td>\n",
       "      <td>[(handleword, a, a, big), (a, a, big, city), (...</td>\n",
       "      <td>@soult As a big-city person I'm always surpris...</td>\n",
       "    </tr>\n",
       "    <tr>\n",
       "      <th>1048</th>\n",
       "      <td>[handleword, handleword, stolen, your, dream, ...</td>\n",
       "      <td>[(handleword, handleword), (handleword, stolen...</td>\n",
       "      <td>[(handleword, handleword, stolen), (handleword...</td>\n",
       "      <td>[(handleword, handleword, stolen, your), (hand...</td>\n",
       "      <td>@Reuters @GretaThunberg Stolen your dreams? WT...</td>\n",
       "    </tr>\n",
       "    <tr>\n",
       "      <th>692</th>\n",
       "      <td>[new, post, chris, bosh, on, the, nba, final, ...</td>\n",
       "      <td>[(new, post), (post, chris), (chris, bosh), (b...</td>\n",
       "      <td>[(new, post, chris), (post, chris, bosh), (chr...</td>\n",
       "      <td>[(new, post, chris, bosh), (post, chris, bosh,...</td>\n",
       "      <td>New post (Chris Bosh On The 2013 NBA Finals) h...</td>\n",
       "    </tr>\n",
       "    <tr>\n",
       "      <th>2655</th>\n",
       "      <td>[no, joke, this, wa, picture, number, for, the...</td>\n",
       "      <td>[(no, joke), (joke, this), (this, wa), (wa, pi...</td>\n",
       "      <td>[(no, joke, this), (joke, this, wa), (this, wa...</td>\n",
       "      <td>[(no, joke, this, wa), (joke, this, wa, pictur...</td>\n",
       "      <td>No Joke. This Was Picture Number For The First...</td>\n",
       "    </tr>\n",
       "    <tr>\n",
       "      <th>1816</th>\n",
       "      <td>[parkdean, competition, freedom, to, go, urlword]</td>\n",
       "      <td>[(parkdean, competition), (competition, freedo...</td>\n",
       "      <td>[(parkdean, competition, freedom), (competitio...</td>\n",
       "      <td>[(parkdean, competition, freedom, to), (compet...</td>\n",
       "      <td>Parkdean Competition - Freedom to Go https://t...</td>\n",
       "    </tr>\n",
       "  </tbody>\n",
       "</table>\n",
       "<p>100 rows × 5 columns</p>\n",
       "</div>"
      ],
      "text/plain": [
       "                                               unigrams  ...                                           Contents\n",
       "1729  [the, stationmaster, daughter, by, kathleen, m...  ...  The Stationmaster's Daughter by Kathleen McGur...\n",
       "437   [go, follow, handleword, get, access, to, her,...  ...  Go follow @chanelb82413021 Get access to her O...\n",
       "3607  [handleword, handleword, handleword, handlewor...  ...  @radiophonicpop @TalentedEukarya @questauthori...\n",
       "4540  [best, part, about, baby, sitting, older, kid,...  ...  Best part about baby sitting older kids is I c...\n",
       "3829  [handleword, and, in, the, sunshine, think, mr...  ...  @rescuedogdexter And in the sunshine 😍 think M...\n",
       "...                                                 ...  ...                                                ...\n",
       "23    [handleword, a, a, big, city, person, i, alway...  ...  @soult As a big-city person I'm always surpris...\n",
       "1048  [handleword, handleword, stolen, your, dream, ...  ...  @Reuters @GretaThunberg Stolen your dreams? WT...\n",
       "692   [new, post, chris, bosh, on, the, nba, final, ...  ...  New post (Chris Bosh On The 2013 NBA Finals) h...\n",
       "2655  [no, joke, this, wa, picture, number, for, the...  ...  No Joke. This Was Picture Number For The First...\n",
       "1816  [parkdean, competition, freedom, to, go, urlword]  ...  Parkdean Competition - Freedom to Go https://t...\n",
       "\n",
       "[100 rows x 5 columns]"
      ]
     },
     "execution_count": 17,
     "metadata": {
      "tags": []
     },
     "output_type": "execute_result"
    }
   ],
   "source": [
    "# See the dictionary of n-grams pulled\n",
    "df_train.loc[:,[\"unigrams\",\"bigrams\",\"trigrams\",\"fourgrams\",\"Contents\"]].head(100)\n",
    "#df_test.loc[:,[\"unigrams\",\"bigrams\",\"trigrams\",\"fourgrams\",\"Contents\"]].head(100)\n"
   ]
  },
  {
   "cell_type": "markdown",
   "metadata": {
    "colab_type": "text",
    "id": "_hfYJh_6Nnq9"
   },
   "source": [
    "We can now compare if train and test sets are similar in the type of words we find in the datasets."
   ]
  },
  {
   "cell_type": "code",
   "execution_count": 0,
   "metadata": {
    "colab": {},
    "colab_type": "code",
    "id": "aZPMyNgqy_Qz"
   },
   "outputs": [],
   "source": [
    "# Build Dictionaries by N-gram\n",
    "dict_4 = freq(df_train.fourgrams)\n",
    "dict_3 = freq(df_train.trigrams)\n",
    "dict_2 = freq(df_train.bigrams)\n",
    "dict_1 = freq(df_train.unigrams)\n",
    "dict_test_4 = freq(df_test.fourgrams)\n",
    "dict_test_3 = freq(df_test.trigrams)\n",
    "dict_test_2 = freq(df_test.bigrams)\n",
    "dict_test_1 = freq(df_test.unigrams)"
   ]
  },
  {
   "cell_type": "code",
   "execution_count": 0,
   "metadata": {
    "colab": {
     "base_uri": "https://localhost:8080/",
     "height": 1000
    },
    "colab_type": "code",
    "executionInfo": {
     "elapsed": 54336,
     "status": "ok",
     "timestamp": 1573878996074,
     "user": {
      "displayName": "Alvaro Jesus Aguado Marin",
      "photoUrl": "",
      "userId": "05452788874054527986"
     },
     "user_tz": 300
    },
    "id": "ckbaoSp-0U_L",
    "outputId": "37947e93-3733-4b25-86a3-92e738ebb69d"
   },
   "outputs": [
    {
     "data": {
      "image/png": "[encoded data removed]",
      "text/plain": [
       "<Figure size 432x288 with 1 Axes>"
      ]
     },
     "metadata": {
      "tags": []
     },
     "output_type": "display_data"
    },
    {
     "data": {
      "image/png": "[encoded data removed]",
      "text/plain": [
       "<Figure size 432x288 with 1 Axes>"
      ]
     },
     "metadata": {
      "tags": []
     },
     "output_type": "display_data"
    },
    {
     "data": {
      "image/png": "[encoded data removed]",
      "text/plain": [
       "<Figure size 432x288 with 1 Axes>"
      ]
     },
     "metadata": {
      "tags": []
     },
     "output_type": "display_data"
    },
    {
     "data": {
      "image/png": "[encoded data removed]",
      "text/plain": [
       "<Figure size 432x288 with 1 Axes>"
      ]
     },
     "metadata": {
      "tags": []
     },
     "output_type": "display_data"
    }
   ],
   "source": [
    "# Most common ngrams for the train set\n",
    "dict_1.most_common(10)    \n",
    "dict_2.most_common(10) \n",
    "dict_3.most_common(10) \n",
    "dict_4.most_common(10) \n",
    "\n",
    "# Plots by ngram for the train set\n",
    "plt.title(\"Train Set Unigrams Most Common\")\n",
    "dict_1.plot(20,cumulative=False)\n",
    "plt.title(\"Train Set Bigrams Most Common\")\n",
    "dict_2.plot(20,cumulative=False)\n",
    "plt.title(\"Train Set Trigrams Most Common\")\n",
    "dict_3.plot(20,cumulative=False)\n",
    "plt.title(\"Train Set Fourgrams Most Common\")\n",
    "dict_4.plot(20,cumulative=False)\n"
   ]
  },
  {
   "cell_type": "code",
   "execution_count": 0,
   "metadata": {
    "colab": {
     "base_uri": "https://localhost:8080/",
     "height": 1000
    },
    "colab_type": "code",
    "executionInfo": {
     "elapsed": 55777,
     "status": "ok",
     "timestamp": 1573878997564,
     "user": {
      "displayName": "Alvaro Jesus Aguado Marin",
      "photoUrl": "",
      "userId": "05452788874054527986"
     },
     "user_tz": 300
    },
    "id": "JWAnHlWQPnRG",
    "outputId": "d7143f1e-3b37-4322-cd64-85882ce55c08"
   },
   "outputs": [
    {
     "data": {
      "image/png": "[encoded data removed]",
      "text/plain": [
       "<Figure size 432x288 with 1 Axes>"
      ]
     },
     "metadata": {
      "tags": []
     },
     "output_type": "display_data"
    },
    {
     "data": {
      "image/png": "[encoded data removed]",
      "text/plain": [
       "<Figure size 432x288 with 1 Axes>"
      ]
     },
     "metadata": {
      "tags": []
     },
     "output_type": "display_data"
    },
    {
     "data": {
      "image/png": "[encoded data removed]",
      "text/plain": [
       "<Figure size 432x288 with 1 Axes>"
      ]
     },
     "metadata": {
      "tags": []
     },
     "output_type": "display_data"
    },
    {
     "data": {
      "image/png": "[encoded data removed]",
      "text/plain": [
       "<Figure size 432x288 with 1 Axes>"
      ]
     },
     "metadata": {
      "tags": []
     },
     "output_type": "display_data"
    }
   ],
   "source": [
    "# Most common ngrams for the test set\n",
    "dict_test_1.most_common(10)    \n",
    "dict_test_2.most_common(10) \n",
    "dict_test_3.most_common(10) \n",
    "dict_test_4.most_common(10) \n",
    "\n",
    "# Plots by ngram for the test set\n",
    "plt.title(\"Test Set Unigrams Most Common\")\n",
    "dict_test_1.plot(20,cumulative=False)\n",
    "plt.title(\"Test Set Bigrams Most Common\")\n",
    "dict_test_2.plot(20,cumulative=False)\n",
    "plt.title(\"Test Set Trigrams Most Common\")\n",
    "dict_test_3.plot(20,cumulative=False)\n",
    "plt.title(\"Test Set Fourgrams Most Common\")\n",
    "dict_test_4.plot(20,cumulative=False)"
   ]
  },
  {
   "cell_type": "markdown",
   "metadata": {
    "colab_type": "text",
    "id": "auA_6GAscZ0L"
   },
   "source": [
    "We can compare how our train set has similar distribution of unigrams and bigrams as the test set. However, as we move up to tri-grams and four-grams we find that there are many instances that are not present in the most common train set. This tells us that trigrams and fourgrams contain a lot more information and that their frequencies are more unique to the text that is being processed."
   ]
  },
  {
   "cell_type": "markdown",
   "metadata": {
    "colab_type": "text",
    "id": "Yo2SzbiUdzOc"
   },
   "source": [
    "One more thing we have to do is to treat new or unkown words. Our train set is a large composition of words but it doesn't have every single word that can be written. Far from that we probably have a small dictionary. There are 2 things we could do: \n",
    "1. We continue to increase our dictionary size to make sure that we cover every word possible\n",
    "2. We do a pre-processing to new words that checks if the word is in the dictionary. In case it doesn't then we convert the word to a special word 'Unk'\n",
    "\n",
    "None of the approaches are ideal but this would help our algorithms process data more efficiently"
   ]
  },
  {
   "cell_type": "code",
   "execution_count": 0,
   "metadata": {
    "colab": {
     "base_uri": "https://localhost:8080/",
     "height": 35
    },
    "colab_type": "code",
    "executionInfo": {
     "elapsed": 55743,
     "status": "ok",
     "timestamp": 1573878997566,
     "user": {
      "displayName": "Alvaro Jesus Aguado Marin",
      "photoUrl": "",
      "userId": "05452788874054527986"
     },
     "user_tz": 300
    },
    "id": "O4NrJxR2G-uE",
    "outputId": "8ad01186-8837-404d-e5cb-234a5841d077"
   },
   "outputs": [
    {
     "data": {
      "text/plain": [
       "1"
      ]
     },
     "execution_count": 21,
     "metadata": {
      "tags": []
     },
     "output_type": "execute_result"
    }
   ],
   "source": [
    "dict_1[lemma.lemmatize('midstream')]"
   ]
  },
  {
   "cell_type": "code",
   "execution_count": 0,
   "metadata": {
    "colab": {},
    "colab_type": "code",
    "id": "BekFGo4aOcV8"
   },
   "outputs": [],
   "source": [
    "def get_in_dict(article,dict):\n",
    "  lst = []\n",
    "  for x in article.split(\" \"):\n",
    "    x = lemma.lemmatize(x)\n",
    "    if dict.get(x,34727) == 0:\n",
    "      lst.append(re.sub(x,\"UNK\",x))\n",
    "    else:\n",
    "      lst.append(x)\n",
    "  article_new = ' '.join(lst)\n",
    "  return(article_new)\n"
   ]
  },
  {
   "cell_type": "markdown",
   "metadata": {
    "colab_type": "text",
    "id": "gBRondXPisD_"
   },
   "source": [
    "We will apply this when we build our train_target and test_target data frames. Also we will create an entry in our dictionary to account for the word UNK. Below is an example of what will this function do to the data"
   ]
  },
  {
   "cell_type": "code",
   "execution_count": 0,
   "metadata": {
    "colab": {},
    "colab_type": "code",
    "id": "3avEw3TOrlTF"
   },
   "outputs": [],
   "source": [
    "def pre_proc(article,dict):\n",
    "  new_article = clean_article(article)\n",
    "  return(get_in_dict(new_article,dict))"
   ]
  },
  {
   "cell_type": "code",
   "execution_count": 0,
   "metadata": {
    "colab": {
     "base_uri": "https://localhost:8080/",
     "height": 35
    },
    "colab_type": "code",
    "executionInfo": {
     "elapsed": 55678,
     "status": "ok",
     "timestamp": 1573878997572,
     "user": {
      "displayName": "Alvaro Jesus Aguado Marin",
      "photoUrl": "",
      "userId": "05452788874054527986"
     },
     "user_tz": 300
    },
    "id": "gKwyp8fcfW9_",
    "outputId": "ab074b46-f7fa-4243-de8b-bebc1657b7f1"
   },
   "outputs": [
    {
     "data": {
      "text/plain": [
       "'i cant stand this ksjddkjghs omg'"
      ]
     },
     "execution_count": 24,
     "metadata": {
      "tags": []
     },
     "output_type": "execute_result"
    }
   ],
   "source": [
    "example = \"I can't stand this ksjddkjghs OMG\"\n",
    "pre_proc(example,dict_1)"
   ]
  },
  {
   "cell_type": "markdown",
   "metadata": {
    "colab_type": "text",
    "id": "2RrVd2zSdvxa"
   },
   "source": [
    "Now that we have pre-processed the data we have to create a function to prepare our test set. \n",
    "Currently our test set looks exactly as our train set; a vector of (pre-processed) corpuses with target variable to compare to. For this we need to create a function that takes the text vector and randomly selects a subset of the corpus string, and also generates a target variable that will be the word right after the subset of the corpus selected. \n",
    "\n",
    "For example if the test set has the following sample strings:\n",
    "\n",
    "|actual| contents   |\n",
    "|------|------------|\n",
    "|     1| We want to go to the movies and then maybe go to a bar.          |\n",
    "|     2| If we don't fight wildfires we are likely to lose the flora of the region.|\n",
    "|     3|Remember to call me!!!!|\n",
    "\n",
    "Our function is going to return the following\n",
    "\n",
    "|actual| subset     |target|\n",
    "|------|------------|------|\n",
    "|     1| We want to go to |the|\n",
    "|     2| If we don't fight wildfires we are|likely|\n",
    "|     3|Remember to |call|\n",
    "\n",
    "this way our model will take the input from the subset column and will try to predict the target variable. \n",
    "\n",
    "If the subset doesn't have enough words to form the higher level grams it will directly try to predict based on the highest level n-gram possible and succesively go down the n-gram order level. \n",
    "\n",
    "Also, in order to define pick the best value for k (min frequency) and d (good-turing discount), we are going to cross validate our train set until we have the highest level possible level for training.\n"
   ]
  },
  {
   "cell_type": "code",
   "execution_count": 0,
   "metadata": {
    "colab": {},
    "colab_type": "code",
    "id": "opJNkRRz6mn8"
   },
   "outputs": [],
   "source": [
    "# We first need to create a function that will take the test set and break the string into target, \n",
    "# and subset which is the sentence preceding the word to be predicted\n",
    "\n",
    "# Function to create a target column from a random length in the test strings\n",
    "def create_target(data_frame,type = 0):\n",
    "  # Create target takes a data frame with a column Contents that contains the text strings and returns the data frame in addition to the following variables:\n",
    "  # clean: Contents string cleaned by removing punctuation, hashtags, handles, etc.\n",
    "  # n-grams: 4 columns with the different ngrams. each contains tuples with the n-gram from the clean variable\n",
    "  # target: variable with the word (unigram) to be predicted\n",
    "  # length: number of unigrams preceding the target variable. We are going to force to have at least 3 words for the prediction\n",
    "    random.seed(12345)\n",
    "    test_set = pd.DataFrame(columns = ['clean','target','length'])\n",
    "    data_frame[\"clean\"] = data_frame.apply(lambda row: pre_proc(str(row[\"Contents\"]),dict_1), axis=1)\n",
    "#    data_frame[\"clean\"] = data_frame.apply(lambda row: get_in_dict(str(row[\"clean\"]),dict_1), axis=1)\n",
    "    data_frame[\"unigrams\"] = [[lemma.lemmatize(x) for x in sentence.split(\" \")] for sentence in data_frame.clean]\n",
    "    sen = []\n",
    "    tar = []\n",
    "    pos = []\n",
    "    for x in data_frame.unigrams:\n",
    "      if type == 1:\n",
    "        if len(x) < 1:\n",
    "          print(\"This string is empty!\")\n",
    "        else:\n",
    "          posi = len(x)-1\n",
    "          #print(\"Selecting substring with \",posi,\"words out of \",len(x),\" total available words\")\n",
    "        sentence = ' '.join(x[0:(posi)])\n",
    "        target = ''        \n",
    "        test_set = test_set.append({'clean': sentence,'target': target,'length':posi},ignore_index = True)\n",
    "      elif type == 0:\n",
    "        if len(x) < 1:\n",
    "            #print(\"This string is empty, then skip\")\n",
    "            continue\n",
    "        elif len(x) < 3:\n",
    "            posi = len(x)-1\n",
    "            #print(\"Selecting substring with \",posi,\"words out of \",len(x),\" total available words\")\n",
    "        else:        \n",
    "            posi = random.randint(2,len(x)-1)        \n",
    "            #print(\"Selecting substring with \",posi,\"words out of \",len(x),\" total available words\")\n",
    "        sentence = ' '.join(x[0:(posi)])\n",
    "        target = x[posi]\n",
    "        sen.append(sentence)\n",
    "        tar.append(target)\n",
    "        pos.append(posi)\n",
    "\n",
    "    test_set = pd.DataFrame(list(zip(sen,tar,pos)),columns = ['clean','target','length'])\n",
    "    test_set['unigram'] = last_gram(test_set.clean,1)\n",
    "    test_set['bigram'] = last_gram(test_set.clean,2)\n",
    "    test_set['trigram'] = last_gram(test_set.clean,3)\n",
    "    test_set['fourgram'] = last_gram(test_set.clean,4)    \n",
    "    return(test_set)\n",
    "\n",
    "# Get the last set of ngrams from the sentence to be tested\n",
    "def last_gram(base,n):\n",
    "    last_ngram = [list(nltk.ngrams([j for j in sentence.split(\" \")[-n:]],n)) for sentence in base]\n",
    "    return(last_ngram)\n",
    "\n"
   ]
  },
  {
   "cell_type": "markdown",
   "metadata": {
    "colab_type": "text",
    "id": "gBKqD5BRiRjK"
   },
   "source": [
    "Let's create from the test set the target word to predict along with the n-gram that precede the word. The selection of the target word is random but it will be reproducible because we selected unique seed 12345."
   ]
  },
  {
   "cell_type": "code",
   "execution_count": 0,
   "metadata": {
    "colab": {},
    "colab_type": "code",
    "id": "QQdMtr6mqXBC"
   },
   "outputs": [],
   "source": [
    "import random\n",
    "# train_target = create_target(train,type = 0)\n",
    "# Test\n",
    "test[\"clean\"] = test.apply(lambda row: clean_article(str(row[\"Contents\"])), axis=1)\n",
    "test_target = create_target(test,type = 0)"
   ]
  },
  {
   "cell_type": "code",
   "execution_count": 0,
   "metadata": {
    "colab": {
     "base_uri": "https://localhost:8080/",
     "height": 415
    },
    "colab_type": "code",
    "executionInfo": {
     "elapsed": 55602,
     "status": "ok",
     "timestamp": 1573878997577,
     "user": {
      "displayName": "Alvaro Jesus Aguado Marin",
      "photoUrl": "",
      "userId": "05452788874054527986"
     },
     "user_tz": 300
    },
    "id": "C50ejIyl7Ns9",
    "outputId": "abcc3048-a31d-4e52-bbce-17097ccf52dc"
   },
   "outputs": [
    {
     "data": {
      "text/html": [
       "<div>\n",
       "<style scoped>\n",
       "    .dataframe tbody tr th:only-of-type {\n",
       "        vertical-align: middle;\n",
       "    }\n",
       "\n",
       "    .dataframe tbody tr th {\n",
       "        vertical-align: top;\n",
       "    }\n",
       "\n",
       "    .dataframe thead th {\n",
       "        text-align: right;\n",
       "    }\n",
       "</style>\n",
       "<table border=\"1\" class=\"dataframe\">\n",
       "  <thead>\n",
       "    <tr style=\"text-align: right;\">\n",
       "      <th></th>\n",
       "      <th>clean</th>\n",
       "      <th>target</th>\n",
       "    </tr>\n",
       "  </thead>\n",
       "  <tbody>\n",
       "    <tr>\n",
       "      <th>0</th>\n",
       "      <td>it currently rain and celsius outside so use</td>\n",
       "      <td>your</td>\n",
       "    </tr>\n",
       "    <tr>\n",
       "      <th>1</th>\n",
       "      <td>source urlword a closer look at software archi...</td>\n",
       "      <td>which</td>\n",
       "    </tr>\n",
       "    <tr>\n",
       "      <th>2</th>\n",
       "      <td>friendly reminder</td>\n",
       "      <td>if</td>\n",
       "    </tr>\n",
       "    <tr>\n",
       "      <th>3</th>\n",
       "      <td>i ve been up</td>\n",
       "      <td>since</td>\n",
       "    </tr>\n",
       "    <tr>\n",
       "      <th>4</th>\n",
       "      <td>yeah he only a top passer right now but he onl...</td>\n",
       "      <td>he</td>\n",
       "    </tr>\n",
       "    <tr>\n",
       "      <th>...</th>\n",
       "      <td>...</td>\n",
       "      <td>...</td>\n",
       "    </tr>\n",
       "    <tr>\n",
       "      <th>194</th>\n",
       "      <td>really i found the act of actually watching mad</td>\n",
       "      <td>men</td>\n",
       "    </tr>\n",
       "    <tr>\n",
       "      <th>195</th>\n",
       "      <td>i hope that the gop isnt</td>\n",
       "      <td>that</td>\n",
       "    </tr>\n",
       "    <tr>\n",
       "      <th>196</th>\n",
       "      <td>handleword handleword there the</td>\n",
       "      <td>plan</td>\n",
       "    </tr>\n",
       "    <tr>\n",
       "      <th>197</th>\n",
       "      <td>do you have any out fan or are they all in</td>\n",
       "      <td>your</td>\n",
       "    </tr>\n",
       "    <tr>\n",
       "      <th>198</th>\n",
       "      <td>local milfs in my</td>\n",
       "      <td>area</td>\n",
       "    </tr>\n",
       "  </tbody>\n",
       "</table>\n",
       "<p>199 rows × 2 columns</p>\n",
       "</div>"
      ],
      "text/plain": [
       "                                                 clean target\n",
       "0         it currently rain and celsius outside so use   your\n",
       "1    source urlword a closer look at software archi...  which\n",
       "2                                    friendly reminder     if\n",
       "3                                         i ve been up  since\n",
       "4    yeah he only a top passer right now but he onl...     he\n",
       "..                                                 ...    ...\n",
       "194    really i found the act of actually watching mad    men\n",
       "195                           i hope that the gop isnt   that\n",
       "196                    handleword handleword there the   plan\n",
       "197         do you have any out fan or are they all in   your\n",
       "198                                  local milfs in my   area\n",
       "\n",
       "[199 rows x 2 columns]"
      ]
     },
     "execution_count": 27,
     "metadata": {
      "tags": []
     },
     "output_type": "execute_result"
    }
   ],
   "source": [
    "# Resulting Set to predict\n",
    "#with pd.option_context('display.max_rows', None, 'display.max_columns', None):  # more options can be specified also\n",
    "#    print(test_target.loc[:,[\"clean\",\"target\"]])\n",
    "test_target.loc[:,[\"clean\",\"target\"]]\n"
   ]
  },
  {
   "cell_type": "markdown",
   "metadata": {
    "colab_type": "text",
    "id": "hfDoBCgMlKjG"
   },
   "source": [
    "Now the Back off model will take the largest probability of the largest n-gram possible and predicts the next word. At the lowest level if we don't know the word then use the most common unigram."
   ]
  },
  {
   "cell_type": "code",
   "execution_count": 0,
   "metadata": {
    "colab": {},
    "colab_type": "code",
    "id": "JD2Pd7x3Py_D"
   },
   "outputs": [],
   "source": [
    "## Back-off Algorithm\n",
    "## Returns the prediction and probability\n",
    "## Probability is not being stored correctly\n",
    "# Top function\n",
    "def get_candidates(data_frame):\n",
    "  # takes a pre-processed data_frame (from the create_target function) and returns the same data frame with 2 additional columns\n",
    "  # pred: which is the predicted word\n",
    "  # prob: which is the estimated probability\n",
    "    pred = []\n",
    "    prob = []\n",
    "    for i in range(len(data_frame)):\n",
    "        #print(i)\n",
    "        s4,s3,s2,s1 = get_ngram_col(data_frame,i)\n",
    "        if len(s4) != 0:\n",
    "            resp, proba = get_prediction(s3,s4,dict_3,dict_4)\n",
    "        elif len(s3) != 0:\n",
    "            resp, proba = get_prediction(s2,s3,dict_2,dict_3)\n",
    "        elif len(s2) != 0:\n",
    "            resp, proba = get_prediction(s1,s2,dict_1,dict_2)            \n",
    "        else:\n",
    "            l = len(dict_1)\n",
    "            t = np.sum(list(dict_1.values()))\n",
    "            resp, proba = dict_1.most_common(1)[0][0],(dict_1.most_common(1)[0][1]/t)\n",
    "        pred.append(resp)\n",
    "        prob.append(proba)\n",
    "    data_frame['pred'] = pred\n",
    "    data_frame['proba'] = proba\n",
    "    return(data_frame)\n",
    "\n",
    "# Find ngram in dictionary for evaluation. Returns 4 instances that are to be passed to function get_prediction\n",
    "def get_ngram_col(data_frame,i):\n",
    "    l = data_frame.length[i]    \n",
    "    if l >= 4:\n",
    "        w4 = data_frame.iloc[i][6][0]\n",
    "    else:\n",
    "        w4 = []        \n",
    "    if l >= 3:\n",
    "        w3 = data_frame.iloc[i][5][0]\n",
    "    else:\n",
    "        w3 = []    \n",
    "    if l >= 2:\n",
    "        w2 = data_frame.iloc[i][4][0]\n",
    "    else:\n",
    "        w2 = []    \n",
    "    w1 = data_frame.iloc[i][3][0][0]\n",
    "    s4 = [item for item in dict_4 if item[0:3] == w3]\n",
    "    s3 = [item for item in dict_3 if item[0:2] == w2]\n",
    "    s2 = [item for item in dict_2 if item[0] == w1]\n",
    "    s1 = [item for item in dict_1 if item == w1]\n",
    "    return(s4,s3,s2,s1)\n",
    "\n",
    "# From get_gram_ncol calculate the probability of getting the next word. Highest ngram wins\n",
    "def get_prediction(S,s,F,f):        \n",
    "    dem = F[S[0]]\n",
    "    ds = []\n",
    "    for i in range(len(s)):\n",
    "        #print(i)\n",
    "        #i = 1\n",
    "        num = f[s[i]]\n",
    "        p = num/dem\n",
    "        ds.append(p)\n",
    "        \n",
    "    ind = ds.index(max(ds))\n",
    "    probability = max(ds)\n",
    "    response = s[ind][-1:][0]\n",
    "    return(response,probability)\n"
   ]
  },
  {
   "cell_type": "code",
   "execution_count": 0,
   "metadata": {
    "colab": {
     "base_uri": "https://localhost:8080/",
     "height": 415
    },
    "colab_type": "code",
    "executionInfo": {
     "elapsed": 115823,
     "status": "ok",
     "timestamp": 1573879057847,
     "user": {
      "displayName": "Alvaro Jesus Aguado Marin",
      "photoUrl": "",
      "userId": "05452788874054527986"
     },
     "user_tz": 300
    },
    "id": "0pV9HE0vxurP",
    "outputId": "b06fb7a2-5db3-44e8-8ecf-9e734f6536e0"
   },
   "outputs": [
    {
     "data": {
      "text/html": [
       "<div>\n",
       "<style scoped>\n",
       "    .dataframe tbody tr th:only-of-type {\n",
       "        vertical-align: middle;\n",
       "    }\n",
       "\n",
       "    .dataframe tbody tr th {\n",
       "        vertical-align: top;\n",
       "    }\n",
       "\n",
       "    .dataframe thead th {\n",
       "        text-align: right;\n",
       "    }\n",
       "</style>\n",
       "<table border=\"1\" class=\"dataframe\">\n",
       "  <thead>\n",
       "    <tr style=\"text-align: right;\">\n",
       "      <th></th>\n",
       "      <th>target</th>\n",
       "      <th>unigram</th>\n",
       "      <th>bigram</th>\n",
       "      <th>trigram</th>\n",
       "      <th>pred</th>\n",
       "    </tr>\n",
       "  </thead>\n",
       "  <tbody>\n",
       "    <tr>\n",
       "      <th>0</th>\n",
       "      <td>your</td>\n",
       "      <td>[(use,)]</td>\n",
       "      <td>[(so, use)]</td>\n",
       "      <td>[(outside, so, use)]</td>\n",
       "      <td>whoever</td>\n",
       "    </tr>\n",
       "    <tr>\n",
       "      <th>1</th>\n",
       "      <td>which</td>\n",
       "      <td>[(in,)]</td>\n",
       "      <td>[(lock, in)]</td>\n",
       "      <td>[(architecture, lock, in)]</td>\n",
       "      <td>a</td>\n",
       "    </tr>\n",
       "    <tr>\n",
       "      <th>2</th>\n",
       "      <td>if</td>\n",
       "      <td>[(reminder,)]</td>\n",
       "      <td>[(friendly, reminder)]</td>\n",
       "      <td>[]</td>\n",
       "      <td>that</td>\n",
       "    </tr>\n",
       "    <tr>\n",
       "      <th>3</th>\n",
       "      <td>since</td>\n",
       "      <td>[(up,)]</td>\n",
       "      <td>[(been, up)]</td>\n",
       "      <td>[(ve, been, up)]</td>\n",
       "      <td>to</td>\n",
       "    </tr>\n",
       "    <tr>\n",
       "      <th>4</th>\n",
       "      <td>he</td>\n",
       "      <td>[(and,)]</td>\n",
       "      <td>[(game, and)]</td>\n",
       "      <td>[(nfl, game, and)]</td>\n",
       "      <td>click</td>\n",
       "    </tr>\n",
       "    <tr>\n",
       "      <th>...</th>\n",
       "      <td>...</td>\n",
       "      <td>...</td>\n",
       "      <td>...</td>\n",
       "      <td>...</td>\n",
       "      <td>...</td>\n",
       "    </tr>\n",
       "    <tr>\n",
       "      <th>194</th>\n",
       "      <td>men</td>\n",
       "      <td>[(mad,)]</td>\n",
       "      <td>[(watching, mad)]</td>\n",
       "      <td>[(actually, watching, mad)]</td>\n",
       "      <td>men</td>\n",
       "    </tr>\n",
       "    <tr>\n",
       "      <th>195</th>\n",
       "      <td>that</td>\n",
       "      <td>[(isnt,)]</td>\n",
       "      <td>[(gop, isnt)]</td>\n",
       "      <td>[(the, gop, isnt)]</td>\n",
       "      <td>a</td>\n",
       "    </tr>\n",
       "    <tr>\n",
       "      <th>196</th>\n",
       "      <td>plan</td>\n",
       "      <td>[(the,)]</td>\n",
       "      <td>[(there, the)]</td>\n",
       "      <td>[(handleword, there, the)]</td>\n",
       "      <td>copper</td>\n",
       "    </tr>\n",
       "    <tr>\n",
       "      <th>197</th>\n",
       "      <td>your</td>\n",
       "      <td>[(in,)]</td>\n",
       "      <td>[(all, in)]</td>\n",
       "      <td>[(they, all, in)]</td>\n",
       "      <td>the</td>\n",
       "    </tr>\n",
       "    <tr>\n",
       "      <th>198</th>\n",
       "      <td>area</td>\n",
       "      <td>[(my,)]</td>\n",
       "      <td>[(in, my)]</td>\n",
       "      <td>[(milfs, in, my)]</td>\n",
       "      <td>amateur</td>\n",
       "    </tr>\n",
       "  </tbody>\n",
       "</table>\n",
       "<p>199 rows × 5 columns</p>\n",
       "</div>"
      ],
      "text/plain": [
       "    target        unigram  ...                      trigram     pred\n",
       "0     your       [(use,)]  ...         [(outside, so, use)]  whoever\n",
       "1    which        [(in,)]  ...   [(architecture, lock, in)]        a\n",
       "2       if  [(reminder,)]  ...                           []     that\n",
       "3    since        [(up,)]  ...             [(ve, been, up)]       to\n",
       "4       he       [(and,)]  ...           [(nfl, game, and)]    click\n",
       "..     ...            ...  ...                          ...      ...\n",
       "194    men       [(mad,)]  ...  [(actually, watching, mad)]      men\n",
       "195   that      [(isnt,)]  ...           [(the, gop, isnt)]        a\n",
       "196   plan       [(the,)]  ...   [(handleword, there, the)]   copper\n",
       "197   your        [(in,)]  ...            [(they, all, in)]      the\n",
       "198   area        [(my,)]  ...            [(milfs, in, my)]  amateur\n",
       "\n",
       "[199 rows x 5 columns]"
      ]
     },
     "execution_count": 29,
     "metadata": {
      "tags": []
     },
     "output_type": "execute_result"
    }
   ],
   "source": [
    "# Make prediction\n",
    "# Warning: takes about 30 seconds to run\n",
    "result_frame = get_candidates(test_target)\n",
    "result_frame.iloc[:,[1,3,4,5,7]] # Here we predict the results, if the target is equal to the pred then our prediction is correct, otherwise is not"
   ]
  },
  {
   "cell_type": "code",
   "execution_count": 0,
   "metadata": {
    "colab": {
     "base_uri": "https://localhost:8080/",
     "height": 35
    },
    "colab_type": "code",
    "executionInfo": {
     "elapsed": 115794,
     "status": "ok",
     "timestamp": 1573879057848,
     "user": {
      "displayName": "Alvaro Jesus Aguado Marin",
      "photoUrl": "",
      "userId": "05452788874054527986"
     },
     "user_tz": 300
    },
    "id": "xvPZHk6n3mfv",
    "outputId": "29cbf1ab-f11a-4f5a-c814-90830132807c"
   },
   "outputs": [
    {
     "name": "stdout",
     "output_type": "stream",
     "text": [
      "The number of correct predictions is: 32  out of 199\n"
     ]
    }
   ],
   "source": [
    "correct = 0\n",
    "for i in range(len(result_frame)):\n",
    "  if result_frame.iloc[i,1] == result_frame.iloc[i,7]:\n",
    "    correct += 1\n",
    "\n",
    "print(\"The number of correct predictions is:\",correct,\" out of\",len(result_frame))"
   ]
  },
  {
   "cell_type": "markdown",
   "metadata": {
    "colab_type": "text",
    "id": "Ruf1AJ1fl6CX"
   },
   "source": [
    "As we can see, stupid back-off model predicts correctly 32 out of 199 words correctly, 16% correct which is not bad for a model that basically doesn't use smoothed Maximum likelihood logic to predict the next word."
   ]
  }
 ],
 "metadata": {
  "colab": {
   "collapsed_sections": [],
   "machine_shape": "hm",
   "name": "NJIT_MGMT635_Assigment2_Final.ipynb",
   "provenance": []
  },
  "kernelspec": {
   "display_name": "Python 3",
   "language": "python",
   "name": "python3"
  },
  "language_info": {
   "codemirror_mode": {
    "name": "ipython",
    "version": 3
   },
   "file_extension": ".py",
   "mimetype": "text/x-python",
   "name": "python",
   "nbconvert_exporter": "python",
   "pygments_lexer": "ipython3",
   "version": "3.7.4"
  }
 },
 "nbformat": 4,
 "nbformat_minor": 1
}
